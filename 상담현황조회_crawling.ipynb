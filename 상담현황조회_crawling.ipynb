{
 "cells": [
  {
   "cell_type": "code",
   "execution_count": null,
   "metadata": {},
   "outputs": [],
   "source": [
    "import requests\n",
    "from bs4 import BeautifulSoup,  SoupStrainer\n",
    "import numpy as np\n",
    "import sys\n",
    "import datetime\n",
    "import sqlite3"
   ]
  },
  {
   "cell_type": "code",
   "execution_count": null,
   "metadata": {},
   "outputs": [],
   "source": [
    "def download(method, url, headers = {\"user-agent\":None}, param=None, verify=False, data=None, timeout=1, maxretries=3):\n",
    "    try:\n",
    "        resp = requests.request(method, url, params = param, data = data, headers=headers, verify=False)\n",
    "        resp.raise_for_status()\n",
    "    except requests.exceptions.HTTPError as e:\n",
    "        if 500 <= e.response.status_code < 600 and maxretries > 0:\n",
    "            print(maxretries)\n",
    "            resp = download(method, url, param, data, timeout, maxretries-1)\n",
    "            \n",
    "        else:\n",
    "            print(e.response.status_code)\n",
    "            print(e.response.reason)\n",
    "    return resp"
   ]
  },
  {
   "cell_type": "code",
   "execution_count": null,
   "metadata": {},
   "outputs": [],
   "source": [
    "url = \"http://www.1372.go.kr/contents/include.ccn?gSiteCode=2&gMenuCode=4&nMenuCode=13\""
   ]
  },
  {
   "cell_type": "code",
   "execution_count": null,
   "metadata": {},
   "outputs": [],
   "source": [
    "len(url)"
   ]
  },
  {
   "cell_type": "code",
   "execution_count": null,
   "metadata": {},
   "outputs": [],
   "source": [
    "db = list()\n",
    "def scrape(url, page, db):\n",
    "    data = {\"startCount\":page}\n",
    "    html = download('post', url, data = data)\n",
    "    dom = BeautifulSoup(html.text, 'lxml')\n",
    "    tbody = dom.findAll('tbody')[1]\n",
    "    foo = [_.text.split('\\n') for _ in tbody.findAll('tr')]\n",
    "    \n",
    "    base = 'http://www.ccn.go.kr/contents'\n",
    "    subject = [base + _.a['href'] for _ in tbody.findAll('tr')]\n",
    "    \n",
    "    for i, j in zip(foo, subject):\n",
    "        temp = dict()\n",
    "        temp['num'] = i[1]\n",
    "        temp['gooboon'] = i[2]\n",
    "        temp['itemCode'] = i[3]\n",
    "        temp['title'] = i[4]\n",
    "        temp['receiptDate'] = i[6]\n",
    "        \n",
    "        inside = download('get', j)\n",
    "        inside_dom = BeautifulSoup(inside.text, 'lxml')\n",
    "        tr = inside_dom.select(\"table[class^=boardView] > tbody > tr\")\n",
    "\n",
    "        temp['receiptNum'] = tr[0].select(\"td\")[0].text\n",
    "        temp['date'] = tr[0].select(\"td\")[1].text\n",
    "        temp['item'] = tr[1].select(\"td\")[0].text\n",
    "        temp['answerDate'] =  tr[3].select(\"td\")[0].text\n",
    "        question = inside_dom.findAll('div', {'class':'autocounsel_last_box_mid'})\n",
    "        temp['question'] = question[0].text\n",
    "        temp['answer'] = question[1].text\n",
    "\n",
    "        db.append(temp)\n",
    "    return db"
   ]
  },
  {
   "cell_type": "code",
   "execution_count": null,
   "metadata": {},
   "outputs": [],
   "source": [
    "i = 0\n",
    "db = list()\n",
    "startTime = datetime.datetime.now()\n",
    "while i < 145850 :\n",
    "    db = scrape(url, i, db)\n",
    "    i += 10\n",
    "    if i % 1000 == 0:\n",
    "        cur = datetime.datetime.now()\n",
    "        c = startTime - cur\n",
    "        print(i, 'th present counsel QA:', db[i-1]['title'], 'Time until now:', divmod(c.days * 86400 + c.seconds, 60))"
   ]
  },
  {
   "cell_type": "code",
   "execution_count": null,
   "metadata": {},
   "outputs": [],
   "source": [
    "import json"
   ]
  },
  {
   "cell_type": "code",
   "execution_count": null,
   "metadata": {},
   "outputs": [],
   "source": [
    "with open('temp_Counseling.json', 'w') as json_file:\n",
    "    json.dump(db, json_file)"
   ]
  },
  {
   "cell_type": "code",
   "execution_count": null,
   "metadata": {},
   "outputs": [],
   "source": [
    "len(db)"
   ]
  },
  {
   "cell_type": "code",
   "execution_count": null,
   "metadata": {},
   "outputs": [],
   "source": [
    "with open('temp_Counseling.json') as json_file:\n",
    "    data = json.load(json_file)"
   ]
  },
  {
   "cell_type": "code",
   "execution_count": null,
   "metadata": {},
   "outputs": [],
   "source": [
    "del db"
   ]
  }
 ],
 "metadata": {
  "kernelspec": {
   "display_name": "Python 3",
   "language": "python",
   "name": "python3"
  },
  "language_info": {
   "codemirror_mode": {
    "name": "ipython",
    "version": 3
   },
   "file_extension": ".py",
   "mimetype": "text/x-python",
   "name": "python",
   "nbconvert_exporter": "python",
   "pygments_lexer": "ipython3",
   "version": "3.7.3"
  }
 },
 "nbformat": 4,
 "nbformat_minor": 2
}
