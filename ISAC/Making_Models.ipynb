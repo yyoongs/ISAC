{
  "nbformat": 4,
  "nbformat_minor": 0,
  "metadata": {
    "colab": {
      "name": "Making Models",
      "version": "0.3.2",
      "provenance": [],
      "collapsed_sections": [],
      "machine_shape": "hm"
    },
    "kernelspec": {
      "name": "python3",
      "display_name": "Python 3"
    },
    "accelerator": "GPU"
  },
  "cells": [
    {
      "cell_type": "code",
      "metadata": {
        "id": "dWfdNPlOJtMv",
        "colab_type": "code",
        "outputId": "abeb97e1-fe88-4997-acab-882f3466a920",
        "colab": {
          "base_uri": "https://localhost:8080/",
          "height": 125
        }
      },
      "source": [
        "from google.colab import drive\n",
        "drive.mount('/content/gdrive')"
      ],
      "execution_count": 0,
      "outputs": [
        {
          "output_type": "stream",
          "text": [
            "Go to this URL in a browser: https://accounts.google.com/o/oauth2/auth?client_id=947318989803-6bn6qk8qdgf4n4g3pfee6491hc0brc4i.apps.googleusercontent.com&redirect_uri=urn%3Aietf%3Awg%3Aoauth%3A2.0%3Aoob&scope=email%20https%3A%2F%2Fwww.googleapis.com%2Fauth%2Fdocs.test%20https%3A%2F%2Fwww.googleapis.com%2Fauth%2Fdrive%20https%3A%2F%2Fwww.googleapis.com%2Fauth%2Fdrive.photos.readonly%20https%3A%2F%2Fwww.googleapis.com%2Fauth%2Fpeopleapi.readonly&response_type=code\n",
            "\n",
            "Enter your authorization code:\n",
            "··········\n",
            "Mounted at /content/gdrive\n"
          ],
          "name": "stdout"
        }
      ]
    },
    {
      "cell_type": "code",
      "metadata": {
        "id": "QnOm7EP0KWWA",
        "colab_type": "code",
        "outputId": "aa41d0e9-3612-44ee-f76e-428aa757f623",
        "colab": {
          "base_uri": "https://localhost:8080/",
          "height": 193
        }
      },
      "source": [
        "!pip install regex"
      ],
      "execution_count": 0,
      "outputs": [
        {
          "output_type": "stream",
          "text": [
            "Collecting regex\n",
            "\u001b[?25l  Downloading https://files.pythonhosted.org/packages/6f/a6/99eeb5904ab763db87af4bd71d9b1dfdd9792681240657a4c0a599c10a81/regex-2019.08.19.tar.gz (654kB)\n",
            "\u001b[K     |████████████████████████████████| 655kB 2.8MB/s \n",
            "\u001b[?25hBuilding wheels for collected packages: regex\n",
            "  Building wheel for regex (setup.py) ... \u001b[?25l\u001b[?25hdone\n",
            "  Created wheel for regex: filename=regex-2019.8.19-cp36-cp36m-linux_x86_64.whl size=609251 sha256=d96f1331c9b82ef4fcc02e0774f5b94e9ee650243a4134845e20adf193ccad63\n",
            "  Stored in directory: /root/.cache/pip/wheels/90/04/07/b5010fb816721eb3d6dd64ed5cc8111ca23f97fdab8619b5be\n",
            "Successfully built regex\n",
            "Installing collected packages: regex\n",
            "Successfully installed regex-2019.8.19\n"
          ],
          "name": "stdout"
        }
      ]
    },
    {
      "cell_type": "code",
      "metadata": {
        "id": "q2AGzlNJKNSv",
        "colab_type": "code",
        "outputId": "9abdcc2d-48f1-4d5e-862a-4bf359d8c386",
        "colab": {
          "base_uri": "https://localhost:8080/",
          "height": 34
        }
      },
      "source": [
        "import regex as re\n",
        "import json\n",
        "import pandas as pd\n",
        "from sklearn.ensemble import RandomForestClassifier\n",
        "import numpy as np\n",
        "from sklearn.model_selection import train_test_split\n",
        "import matplotlib.pyplot  as plt\n",
        "from keras.models import Sequential\n",
        "from keras import layers\n",
        "from keras.callbacks import EarlyStopping\n",
        "from keras import optimizers\n",
        "import statistics\n",
        "import seaborn as sns\n",
        "from keras import backend as K\n",
        "from collections import Counter\n",
        "from sklearn import preprocessing"
      ],
      "execution_count": 0,
      "outputs": [
        {
          "output_type": "stream",
          "text": [
            "Using TensorFlow backend.\n"
          ],
          "name": "stderr"
        }
      ]
    },
    {
      "cell_type": "code",
      "metadata": {
        "id": "lheTVRK8KYbC",
        "colab_type": "code",
        "colab": {}
      },
      "source": [
        "with open(\"/content/gdrive/My Drive/Summer Project/tagging_data.json\", encoding = \"UTF-8\") as f:\n",
        "    telecom_tagging = json.load(f)\n",
        "with open(\"/content/gdrive/My Drive/Summer Project/final_counseling_data.json\", encoding = \"UTF-8\") as f:\n",
        "    counseling = json.load(f)\n",
        "with open(\"/content/gdrive/My Drive/Summer Project/answer_DB.json\", encoding = \"UTF-8\") as f:\n",
        "    answers = json.load(f)"
      ],
      "execution_count": 0,
      "outputs": []
    },
    {
      "cell_type": "code",
      "metadata": {
        "id": "7mmxdGp0J_w_",
        "colab_type": "code",
        "outputId": "9d527e0a-71a3-4108-eae1-4ba0696dc672",
        "colab": {
          "base_uri": "https://localhost:8080/",
          "height": 34
        }
      },
      "source": [
        "len(answers) == 148224\n",
        "answer_df = pd.DataFrame(answers).drop_duplicates(subset=['receiptNum'])\n",
        "answer_df.shape"
      ],
      "execution_count": 0,
      "outputs": [
        {
          "output_type": "execute_result",
          "data": {
            "text/plain": [
              "(145380, 10)"
            ]
          },
          "metadata": {
            "tags": []
          },
          "execution_count": 5
        }
      ]
    },
    {
      "cell_type": "code",
      "metadata": {
        "id": "mZJYldQMKB6Q",
        "colab_type": "code",
        "colab": {}
      },
      "source": [
        "counseling_df = pd.DataFrame(counseling)\n",
        "counseling_df = counseling_df.drop('receiptDate', axis = 1)\n",
        "counseling_df = counseling_df.drop_duplicates(subset=['receiptNum'])"
      ],
      "execution_count": 0,
      "outputs": []
    },
    {
      "cell_type": "code",
      "metadata": {
        "id": "BF0MCLMzNQmx",
        "colab_type": "code",
        "colab": {}
      },
      "source": [
        "tags = list()\n",
        "\n",
        "for rank in telecom_tagging:\n",
        "  rank.pop('num', None)\n",
        "  tags.append(rank)\n",
        "tags_df = pd.DataFrame(tags).drop_duplicates(subset=['receiptNum'])"
      ],
      "execution_count": 0,
      "outputs": []
    },
    {
      "cell_type": "code",
      "metadata": {
        "id": "_PUqKiEbIoxG",
        "colab_type": "code",
        "outputId": "c672aac6-211b-42d1-f2e7-a7992a81c4ae",
        "colab": {
          "base_uri": "https://localhost:8080/",
          "height": 106
        }
      },
      "source": [
        "tags_df.head(2)"
      ],
      "execution_count": 0,
      "outputs": [
        {
          "output_type": "execute_result",
          "data": {
            "text/html": [
              "<div>\n",
              "<style scoped>\n",
              "    .dataframe tbody tr th:only-of-type {\n",
              "        vertical-align: middle;\n",
              "    }\n",
              "\n",
              "    .dataframe tbody tr th {\n",
              "        vertical-align: top;\n",
              "    }\n",
              "\n",
              "    .dataframe thead th {\n",
              "        text-align: right;\n",
              "    }\n",
              "</style>\n",
              "<table border=\"1\" class=\"dataframe\">\n",
              "  <thead>\n",
              "    <tr style=\"text-align: right;\">\n",
              "      <th></th>\n",
              "      <th>qKeyword</th>\n",
              "      <th>receiptNum</th>\n",
              "    </tr>\n",
              "  </thead>\n",
              "  <tbody>\n",
              "    <tr>\n",
              "      <th>0</th>\n",
              "      <td>[개통, 철회, 요청, 전화, 신고, 제도, 안내, 가입, 처리, 위약, 부당, 불...</td>\n",
              "      <td>2019-0480284</td>\n",
              "    </tr>\n",
              "    <tr>\n",
              "      <th>1</th>\n",
              "      <td>[사용, 무료, 이동, 이상, 연락, 입금, 전화]</td>\n",
              "      <td>2019-0479644</td>\n",
              "    </tr>\n",
              "  </tbody>\n",
              "</table>\n",
              "</div>"
            ],
            "text/plain": [
              "                                            qKeyword    receiptNum\n",
              "0  [개통, 철회, 요청, 전화, 신고, 제도, 안내, 가입, 처리, 위약, 부당, 불...  2019-0480284\n",
              "1                       [사용, 무료, 이동, 이상, 연락, 입금, 전화]  2019-0479644"
            ]
          },
          "metadata": {
            "tags": []
          },
          "execution_count": 8
        }
      ]
    },
    {
      "cell_type": "code",
      "metadata": {
        "id": "gPSPo_8aN6tv",
        "colab_type": "code",
        "outputId": "75aa5505-207b-4af4-b857-b76b9e12163a",
        "colab": {
          "base_uri": "https://localhost:8080/",
          "height": 70
        }
      },
      "source": [
        "print(answer_df.shape)\n",
        "print(counseling_df.shape)\n",
        "print(tags_df.shape)"
      ],
      "execution_count": 0,
      "outputs": [
        {
          "output_type": "stream",
          "text": [
            "(145380, 10)\n",
            "(145380, 10)\n",
            "(145582, 2)\n"
          ],
          "name": "stdout"
        }
      ]
    },
    {
      "cell_type": "code",
      "metadata": {
        "id": "HkKUlb1-NxUj",
        "colab_type": "code",
        "colab": {}
      },
      "source": [
        "counter = Counter()\n",
        "counter.update(tags_df['receiptNum'])"
      ],
      "execution_count": 0,
      "outputs": []
    },
    {
      "cell_type": "code",
      "metadata": {
        "id": "BrffTi8xN7pQ",
        "colab_type": "code",
        "colab": {}
      },
      "source": [
        "exclude = list()\n",
        "for k,v in counter.items():\n",
        "    if v >= 2:\n",
        "        exclude.append(k)"
      ],
      "execution_count": 0,
      "outputs": []
    },
    {
      "cell_type": "code",
      "metadata": {
        "id": "qeHXQPf2N9ps",
        "colab_type": "code",
        "outputId": "df49b725-659b-4f73-ca8e-954892584d21",
        "colab": {
          "base_uri": "https://localhost:8080/",
          "height": 34
        }
      },
      "source": [
        "len(exclude)"
      ],
      "execution_count": 0,
      "outputs": [
        {
          "output_type": "execute_result",
          "data": {
            "text/plain": [
              "0"
            ]
          },
          "metadata": {
            "tags": []
          },
          "execution_count": 14
        }
      ]
    },
    {
      "cell_type": "code",
      "metadata": {
        "id": "j56w54TpN7FX",
        "colab_type": "code",
        "colab": {}
      },
      "source": [
        "final = pd.merge(counseling_df, tags_df, how = 'left', on = 'receiptNum')\n",
        "final = pd.merge(final, answer_df, how = 'left', on = 'receiptNum')\n",
        "final = final.drop(columns=['num', 'answer_y'], axis=1)\n",
        "final = final.rename(index = str, columns = {\"answer_x\":'answer'})"
      ],
      "execution_count": 0,
      "outputs": []
    },
    {
      "cell_type": "code",
      "metadata": {
        "id": "679wLhzdO5UR",
        "colab_type": "code",
        "outputId": "779c14a7-b3fe-4fda-a5bb-bddac9518abd",
        "colab": {
          "base_uri": "https://localhost:8080/",
          "height": 492
        }
      },
      "source": [
        "bigCatList = list(set(final.gooboon))\n",
        "bigCatList"
      ],
      "execution_count": 0,
      "outputs": [
        {
          "output_type": "execute_result",
          "data": {
            "text/plain": [
              "['보건·위생서비스',\n",
              " '문화용품',\n",
              " '정보통신서비스',\n",
              " '가사용품',\n",
              " '가구',\n",
              " '의료서비스',\n",
              " '식료품·기호품',\n",
              " '식생활기기',\n",
              " '법률·행정서비스',\n",
              " '광열·수도',\n",
              " '문화·오락서비스',\n",
              " '의류·섬유신변용품',\n",
              " '금융',\n",
              " '정보통신기기',\n",
              " '스포츠·레저·취미용품',\n",
              " '주방용품·설비',\n",
              " '도서·음반',\n",
              " '기계류기타물품',\n",
              " '기타서비스',\n",
              " '운수·보관·관리서비스',\n",
              " '교육서비스',\n",
              " '세탁서비스',\n",
              " '보건·위생용품',\n",
              " '차량·승용물',\n",
              " '농·수·축산용품',\n",
              " '보험',\n",
              " '토지·건물·설비']"
            ]
          },
          "metadata": {
            "tags": []
          },
          "execution_count": 11
        }
      ]
    },
    {
      "cell_type": "code",
      "metadata": {
        "id": "37cjHFG8Ovn6",
        "colab_type": "code",
        "outputId": "9a0dd1e4-b65a-4e2c-c4a7-58b3c7b31d55",
        "colab": {
          "base_uri": "https://localhost:8080/",
          "height": 492
        }
      },
      "source": [
        "targetList = ['add_paper', 'nego_able', 'outer']\n",
        "dataList = list()\n",
        "keyList = list()\n",
        "for name in bigCatList:\n",
        "  foo = dict()\n",
        "  foo['bigCat'] = name\n",
        "  df = final[final.gooboon == name]\n",
        "  foo['dataframe'] = df\n",
        "  dataList.append(foo)\n",
        "  keys = list()\n",
        "  for i in df['qKeyword']:\n",
        "    for k in i:\n",
        "      if k not in keys:\n",
        "        keys.append(k)\n",
        "      else:\n",
        "        continue\n",
        "  keyList.append(keys)\n",
        "  print(\"Done making keyList for\", name)"
      ],
      "execution_count": 0,
      "outputs": [
        {
          "output_type": "stream",
          "text": [
            "Done making keyList for 보건·위생서비스\n",
            "Done making keyList for 문화용품\n",
            "Done making keyList for 정보통신서비스\n",
            "Done making keyList for 가사용품\n",
            "Done making keyList for 가구\n",
            "Done making keyList for 의료서비스\n",
            "Done making keyList for 식료품·기호품\n",
            "Done making keyList for 식생활기기\n",
            "Done making keyList for 법률·행정서비스\n",
            "Done making keyList for 광열·수도\n",
            "Done making keyList for 문화·오락서비스\n",
            "Done making keyList for 의류·섬유신변용품\n",
            "Done making keyList for 금융\n",
            "Done making keyList for 정보통신기기\n",
            "Done making keyList for 스포츠·레저·취미용품\n",
            "Done making keyList for 주방용품·설비\n",
            "Done making keyList for 도서·음반\n",
            "Done making keyList for 기계류기타물품\n",
            "Done making keyList for 기타서비스\n",
            "Done making keyList for 운수·보관·관리서비스\n",
            "Done making keyList for 교육서비스\n",
            "Done making keyList for 세탁서비스\n",
            "Done making keyList for 보건·위생용품\n",
            "Done making keyList for 차량·승용물\n",
            "Done making keyList for 농·수·축산용품\n",
            "Done making keyList for 보험\n",
            "Done making keyList for 토지·건물·설비\n"
          ],
          "name": "stdout"
        }
      ]
    },
    {
      "cell_type": "code",
      "metadata": {
        "id": "FHEboSNQOzKh",
        "colab_type": "code",
        "colab": {}
      },
      "source": [
        "tag_list = list()\n",
        "for i in range(len(bigCatList)):\n",
        "  foo = dict()\n",
        "  foo[bigCatList[i]] = keyList[i]\n",
        "  tag_list.append(foo)"
      ],
      "execution_count": 0,
      "outputs": []
    },
    {
      "cell_type": "code",
      "metadata": {
        "id": "YQPtbdtc-XYe",
        "colab_type": "code",
        "colab": {}
      },
      "source": [
        "###### this version is the real version. But it is not used in this notebook.\n",
        "# tag_list = dict()\n",
        "# for i in range(len(bigCatList)):\n",
        "#   tag_list[bigCatList[i]] = keyList[i]\n",
        "#   tag_list.append(foo)\n",
        "# with open('/content/gdrive/My Drive/Summer Project/newModels/tag_list.json', 'w')  as f:\n",
        "#   json.dump(tag_list, f)"
      ],
      "execution_count": 0,
      "outputs": []
    },
    {
      "cell_type": "code",
      "metadata": {
        "id": "4aahcXnyBLqU",
        "colab_type": "code",
        "colab": {}
      },
      "source": [
        "tag_list['식생활기기'][:10]"
      ],
      "execution_count": 0,
      "outputs": []
    },
    {
      "cell_type": "code",
      "metadata": {
        "id": "NOpLOA9fP7C5",
        "colab_type": "code",
        "colab": {}
      },
      "source": [
        "dataList[1]['dataframe'].head(1)"
      ],
      "execution_count": 0,
      "outputs": []
    },
    {
      "cell_type": "code",
      "metadata": {
        "id": "LBBzE7t0H-GX",
        "colab_type": "code",
        "colab": {}
      },
      "source": [
        "dataList[0].keys()"
      ],
      "execution_count": 0,
      "outputs": []
    },
    {
      "cell_type": "code",
      "metadata": {
        "id": "L2uqHZ54OZPq",
        "colab_type": "code",
        "colab": {}
      },
      "source": [
        "len(keyList[0]), len(keyList[1]), len(keyList[2])"
      ],
      "execution_count": 0,
      "outputs": []
    },
    {
      "cell_type": "code",
      "metadata": {
        "id": "czzAWtrTL_uP",
        "colab_type": "code",
        "colab": {}
      },
      "source": [
        "# newDataList = list()\n",
        "\n",
        "# for d in range(len(dataList)):\n",
        "#   df = dataList[d]['dataframe']\n",
        "#   kl = keyList[d]\n",
        "#   new = list()\n",
        "#   for k in range(len(df.qKeyword)):\n",
        "#     new.append([1 if i in df.qKeyword[k] else 0 for i in kl])\n",
        "#   newdf = pd.DataFrame(new, columns=kl)\n",
        "#   newDataList.append(newdf)\n",
        "#   print(dataList[d]['bigCat'])"
      ],
      "execution_count": 0,
      "outputs": []
    },
    {
      "cell_type": "code",
      "metadata": {
        "id": "gF9tm9bRUtxM",
        "colab_type": "code",
        "colab": {}
      },
      "source": [
        "# for d in range(len(newDataList)):\n",
        "#   newDataList[d].to_json('/content/gdrive/My Drive/Summer Project/newData/'+bigCatList[d]+'.json')  "
      ],
      "execution_count": 0,
      "outputs": []
    },
    {
      "cell_type": "code",
      "metadata": {
        "id": "0u2tKwjaO2c5",
        "colab_type": "code",
        "colab": {}
      },
      "source": [
        "newDataList = list()\n",
        "# finalDataList = dict()\n",
        "for i in bigCatList:\n",
        "  with open('/content/gdrive/My Drive/Summer Project/newData/'+i+'.json', encoding = 'utf-8') as file:\n",
        "    t = json.load(file)\n",
        "  t = pd.DataFrame(t)\n",
        "#   finalDataList[i]=t\n",
        "  newDataList.append(t)"
      ],
      "execution_count": 0,
      "outputs": []
    },
    {
      "cell_type": "code",
      "metadata": {
        "id": "k7yOGc7bPcKo",
        "colab_type": "code",
        "colab": {}
      },
      "source": [
        "for i in range(len(keyList)):\n",
        "  if newDataList[i].shape[1] != len(keyList[i]):\n",
        "    print(i)"
      ],
      "execution_count": 0,
      "outputs": []
    },
    {
      "cell_type": "code",
      "metadata": {
        "id": "xeMzzqMrQj7C",
        "colab_type": "code",
        "colab": {}
      },
      "source": [
        "for i in range(len(bigCatList)):\n",
        "  if dataList[i]['dataframe'].shape[0] != newDataList[i].shape[0]:\n",
        "    print(i)"
      ],
      "execution_count": 0,
      "outputs": []
    },
    {
      "cell_type": "code",
      "metadata": {
        "id": "7EJdTcwqRnZQ",
        "colab_type": "code",
        "colab": {}
      },
      "source": [
        "finalDataList = list()\n",
        "for i in range(len(bigCatList)):\n",
        "  finalDataList.append(pd.concat([dataList[i]['dataframe'].reset_index(drop=True), newDataList[i].reset_index(drop=True)], axis=1))"
      ],
      "execution_count": 0,
      "outputs": []
    },
    {
      "cell_type": "code",
      "metadata": {
        "id": "7AdWUlsyUOdE",
        "colab_type": "code",
        "outputId": "6c97297e-db05-438d-849e-53fb17e53ce7",
        "colab": {
          "base_uri": "https://localhost:8080/",
          "height": 34
        }
      },
      "source": [
        "i = 1\n",
        "finalDataList[i].shape, dataList[i]['dataframe'].shape, newDataList[i].shape, len(keyList[i])"
      ],
      "execution_count": 0,
      "outputs": [
        {
          "output_type": "execute_result",
          "data": {
            "text/plain": [
              "((13342, 426), (13342, 18), (13342, 408), 408)"
            ]
          },
          "metadata": {
            "tags": []
          },
          "execution_count": 22
        }
      ]
    },
    {
      "cell_type": "code",
      "metadata": {
        "id": "-if2Aj6NPq2Y",
        "colab_type": "code",
        "colab": {}
      },
      "source": [
        "def pipe(data, keyList_new, target):\n",
        "    x_train, x_test, y_train, y_test = train_test_split(data.loc[:, keyList_new], \n",
        "                                                        data.loc[:, target] ,\n",
        "                                                        random_state = 123)\n",
        "\n",
        "    y_train = [1 if i=='yes' else 0 for i in y_train]\n",
        "    y_test = [1 if i=='yes' else 0 for i in y_test]\n",
        "    \n",
        "    x_train = x_train.to_dense()\n",
        "    x_test = x_test.to_dense()\n",
        "    \n",
        "    input_dim = x_train.shape[1]\n",
        "    \n",
        "    model = Sequential()\n",
        "    optimizer = optimizers.RMSprop(lr=0.001, rho=0.9, epsilon=None, decay=0.0)\n",
        "    \n",
        "    if data.shape[0] < 5000:\n",
        "        model.add(layers.Dense(5, input_dim = input_dim, activation = 'relu'))\n",
        "        model.add(layers.Dense(1, activation='sigmoid'))\n",
        "        model.compile(loss='binary_crossentropy', optimizer=optimizer, metrics=['accuracy', 'binary_crossentropy'])\n",
        "        es = EarlyStopping(monitor='val_loss', mode='min')\n",
        "    else:\n",
        "        model.add(layers.Dense(50, input_dim = input_dim))\n",
        "        model.add(layers.Dense(10, input_dim = input_dim))\n",
        "        model.add(layers.Dense(1, activation='sigmoid'))\n",
        "        model.compile(loss='binary_crossentropy', optimizer=optimizer, metrics=['accuracy', 'binary_crossentropy'])\n",
        "        es = EarlyStopping(monitor='val_loss', mode='min')        \n",
        "    \n",
        "    history = model.fit(x_train, y_train, epochs = 100, verbose = False, \n",
        "                        validation_data = (x_test, y_test), batch_size=10, callbacks=[es])\n",
        "    \n",
        "    return x_train, x_test, y_train, y_test, model, history "
      ],
      "execution_count": 0,
      "outputs": []
    },
    {
      "cell_type": "code",
      "metadata": {
        "id": "jy8JAwR_nvGj",
        "colab_type": "code",
        "outputId": "fd82a9b0-e3cf-4c7b-8b67-a7f43e028732",
        "colab": {
          "base_uri": "https://localhost:8080/",
          "height": 34
        }
      },
      "source": [
        "finalDataList[0].shape"
      ],
      "execution_count": 0,
      "outputs": [
        {
          "output_type": "execute_result",
          "data": {
            "text/plain": [
              "(1390, 246)"
            ]
          },
          "metadata": {
            "tags": []
          },
          "execution_count": 75
        }
      ]
    },
    {
      "cell_type": "code",
      "metadata": {
        "id": "HW9TTTgGn6wJ",
        "colab_type": "code",
        "colab": {}
      },
      "source": [
        "targetList = ['add_paper', 'nego_able', 'outer', 'goojae', 'jojung']"
      ],
      "execution_count": 0,
      "outputs": []
    },
    {
      "cell_type": "code",
      "metadata": {
        "id": "WpkF9_0YgfgJ",
        "colab_type": "code",
        "colab": {}
      },
      "source": [
        ""
      ],
      "execution_count": 0,
      "outputs": []
    },
    {
      "cell_type": "code",
      "metadata": {
        "id": "8MCgJw1kg4Lt",
        "colab_type": "code",
        "outputId": "989f47d2-1ea5-4c85-e414-14c43ae1a540",
        "colab": {
          "base_uri": "https://localhost:8080/",
          "height": 175
        }
      },
      "source": [
        "finalDataList[i]['outer'].dtypes"
      ],
      "execution_count": 0,
      "outputs": [
        {
          "output_type": "execute_result",
          "data": {
            "text/plain": [
              "CategoricalDtype(categories=['', 'counsel.seoul.go.kr', 'cyber.seoul.go.kr',\n",
              "                  'economy.seoul.go.kr', 'edc.me.go.kr', 'housing.seoul.go.kr',\n",
              "                  'sobi.jeonbuk.go.kr', 'www.acrc.go.kr', 'www.adc.go.kr',\n",
              "                  'www.assembly.go.kr', 'www.ccn.go.kr', 'www.ctrc.go.kr',\n",
              "                  'www.epost.go.kr', 'www.ftc.go.kr', 'www.kats.go.kr',\n",
              "                  'www.mltm.go.kr', 'www.moleg.go.kr', 'www.molit.go.kr',\n",
              "                  'www.netan.go.kr', 'www.nier.go.kr', 'www.nssc.go.kr',\n",
              "                  'www.nts.go.kr', 'www.scourt.go.kr'],\n",
              "                 ordered=False)"
            ]
          },
          "metadata": {
            "tags": []
          },
          "execution_count": 65
        }
      ]
    },
    {
      "cell_type": "code",
      "metadata": {
        "id": "BTh7IAPibytK",
        "colab_type": "code",
        "colab": {}
      },
      "source": [
        "from collections import Counter\n",
        "ans = list()\n",
        "counter = Counter()\n",
        "for i in range(len(finalDataList)):\n",
        "  for n in range(len(finalDataList[i])):\n",
        "    if 'www' not in finalDataList[i].loc[n, 'outer']:\n",
        "      finalDataList[i].loc[n, 'outer'] = ''\n",
        "      \n",
        "  finalDataList[i]['outer'] = finalDataList[i]['outer'].astype('category')\n",
        "  for n in range(len(finalDataList[i])):\n",
        "    foo = finalDataList[i].loc[n, 'outer']\n",
        "    if foo not in ans:\n",
        "      ans.append(foo)\n",
        "    else:\n",
        "      continue\n",
        "  print(\"Done for \", i)"
      ],
      "execution_count": 0,
      "outputs": []
    },
    {
      "cell_type": "code",
      "metadata": {
        "id": "mqalT4Bzc-Eu",
        "colab_type": "code",
        "colab": {}
      },
      "source": [
        "#### make a dictionary for the \n",
        "outerDict = dict()\n",
        "for i in range(len(ans)):\n",
        "  outerDict[i] = ans[i]"
      ],
      "execution_count": 0,
      "outputs": []
    },
    {
      "cell_type": "code",
      "metadata": {
        "id": "yXVU3_1HlaZs",
        "colab_type": "code",
        "outputId": "ca8bf7b2-0dd9-450b-b75b-a656c8e38cc7",
        "colab": {
          "base_uri": "https://localhost:8080/",
          "height": 34
        }
      },
      "source": [
        ""
      ],
      "execution_count": 0,
      "outputs": [
        {
          "output_type": "execute_result",
          "data": {
            "text/plain": [
              "LabelEncoder()"
            ]
          },
          "metadata": {
            "tags": []
          },
          "execution_count": 85
        }
      ]
    },
    {
      "cell_type": "code",
      "metadata": {
        "id": "09mAZE1FSPJx",
        "colab_type": "code",
        "colab": {}
      },
      "source": [
        "# dataList, keyList, targetList, newDataList\n",
        "for number in range(len(finalDataList)):\n",
        "  for target in range(2):\n",
        "    x_train, x_test, y_train, y_test, model, history = \\\n",
        "            pipe(finalDataList[number], keyList[number], targetList[target])\n",
        "    model.save('/content/gdrive/My Drive/Summer Project/newModels/' + bigCatList[number]+'_'+targetList[target]+'.h5')\n",
        "    loss, accuracy, binary_crossentropy = model.evaluate(x_test, y_test, verbose=False)\n",
        "    \n",
        "    print(bigCatList[number] + targetList[target] + '/// Length:' + str(x_train.shape) + '/// Accuracy: ' + str(accuracy))"
      ],
      "execution_count": 0,
      "outputs": []
    },
    {
      "cell_type": "code",
      "metadata": {
        "id": "RD5HWKpDSMbW",
        "colab_type": "code",
        "colab": {}
      },
      "source": [
        "targetList = ['add_paper', 'nego_able', 'outer', 'goojae', 'jojung']\n",
        "# dataList, keyList, targetList, newDataList\n",
        "for number in range(len(finalDataList)):\n",
        "  for target in range(3, 5):\n",
        "    x_train, x_test, y_train, y_test, model, history = \\\n",
        "            pipe(finalDataList[number], keyList[number], targetList[target])\n",
        "    model.save('/content/gdrive/My Drive/Summer Project/newModels/' + bigCatList[number]+'_'+targetList[target]+'.h5')\n",
        "    loss, accuracy, binary_crossentropy = model.evaluate(x_test, y_test, verbose=False)\n",
        "    \n",
        "    print(bigCatList[number] + targetList[target] + '/// Length:' + str(x_train.shape) + '/// Accuracy: ' + str(accuracy))"
      ],
      "execution_count": 0,
      "outputs": []
    },
    {
      "cell_type": "code",
      "metadata": {
        "id": "E0ze_0OKVPRo",
        "colab_type": "code",
        "colab": {}
      },
      "source": [
        "def pipe2(data, keyList_new, target):\n",
        "    x_train, x_test, y_train, y_test = train_test_split(data.loc[:, keyList_new], \n",
        "                                                        data.loc[:, target] ,\n",
        "                                                        random_state = 123)\n",
        "    le = preprocessing.LabelEncoder()\n",
        "    le.fit(data.loc[:, target])\n",
        "    print(le.classes_)\n",
        "    y_train = le.transform(y_train)\n",
        "    y_test = le.transform(y_test)\n",
        "\n",
        "    x_train = x_train.to_dense()\n",
        "    x_test = x_test.to_dense()\n",
        "    \n",
        "    input_dim = x_train.shape[1]\n",
        "    \n",
        "    model = Sequential()\n",
        "    optimizer = optimizers.RMSprop(lr=0.001, rho=0.9, epsilon=None, decay=0.0)\n",
        "    \n",
        "    if data.shape[0] < 5000:\n",
        "        model.add(layers.Dense(5, input_dim = input_dim, activation = 'relu'))\n",
        "        model.add(layers.Dense(1, activation='softmax'))\n",
        "        model.compile(loss='binary_crossentropy', optimizer=optimizer, metrics=['accuracy', 'binary_crossentropy'])\n",
        "        es = EarlyStopping(monitor='val_loss', mode='min')\n",
        "    else:\n",
        "        model.add(layers.Dense(50, input_dim = input_dim))\n",
        "        model.add(layers.Dense(10, input_dim = input_dim))\n",
        "        model.add(layers.Dense(1, activation='softmax'))\n",
        "        model.compile(loss='binary_crossentropy', optimizer=optimizer, metrics=['accuracy', 'binary_crossentropy'])\n",
        "        es = EarlyStopping(monitor='val_loss', mode='min')        \n",
        "    \n",
        "    history = model.fit(x_train, y_train, epochs = 100, verbose = False, \n",
        "                        validation_data = (x_test, y_test), batch_size=10, callbacks=[es])\n",
        "    \n",
        "    return x_train, x_test, y_train, y_test, model, history, le"
      ],
      "execution_count": 0,
      "outputs": []
    },
    {
      "cell_type": "code",
      "metadata": {
        "id": "uyws_HICzqTK",
        "colab_type": "code",
        "outputId": "8413733c-ebf8-4084-ed77-8132d075f2c5",
        "colab": {
          "base_uri": "https://localhost:8080/",
          "height": 649
        }
      },
      "source": [
        "targetList = ['add_paper', 'nego_able', 'outer', 'goojae', 'jojung']\n",
        "# dataList, keyList, targetList, newDataList\n",
        "for number in range(len(finalDataList)):\n",
        "  for target in range(2,3):\n",
        "    x_train, x_test, y_train, y_test, model, history, le = \\\n",
        "            pipe2(finalDataList[number], keyList[number], targetList[target])\n",
        "    model.save('/content/gdrive/My Drive/Summer Project/newModels/' + bigCatList[number]+'_'+targetList[target]+'.h5')\n",
        "    loss, accuracy, binary_crossentropy = model.evaluate(x_test, y_test, verbose=False)\n",
        "    \n",
        "    print(bigCatList[number] + targetList[target] + '/// Length:' + str(x_train.shape) + '/// Accuracy: ' + str(accuracy))"
      ],
      "execution_count": 0,
      "outputs": [
        {
          "output_type": "stream",
          "text": [
            "['' 'www.customs.go.kr' 'www.epost.go.kr' 'www.fsc.go.kr' 'www.ftc.go.kr'\n",
            " 'www.nts.go.kr' 'www.police.go.kr' 'www.scourt.go.kr']\n",
            "보건·위생서비스outer/// Length:(1042, 228)/// Accuracy: 0.0\n",
            "['' 'www.acrc.go.kr' 'www.ccn.go.kr' 'www.ctrc.go.kr' 'www.customs.go.kr'\n",
            " 'www.epost.go.kr' 'www.ftc.go.kr' 'www.hometax.go.kr' 'www.kats.go.kr'\n",
            " 'www.kcc.go.kr' 'www.kipo.go.kr' 'www.moleg.go.kr' 'www.motie.go.kr'\n",
            " 'www.netan.go.kr' 'www.npa.go.kr' 'www.open.go.kr' 'www.police.go.kr']\n",
            "문화용품outer/// Length:(4070, 373)/// Accuracy: 0.0\n",
            "['' 'www.acrc.go.kr' 'www.ccn.go.kr' 'www.ctrc.go.kr'\n",
            " 'www.cybercrime.go.kr' 'www.donotcall.go.kr' 'www.epost.go.kr'\n",
            " 'www.etrc.go.kr' 'www.ftc.go.kr' 'www.kbc.go.kr' 'www.kcc.go.kr'\n",
            " 'www.koreapost.go.kr' 'www.mcst.go.kr' 'www.mke.go.kr' 'www.mltm.go.kr'\n",
            " 'www.moel.go.kr' 'www.msip.go.kr' 'www.msit.go.kr' 'www.netan.go.kr'\n",
            " 'www.npa.go.kr' 'www.nta.go.kr' 'www.nts.go.kr' 'www.police.go.kr'\n",
            " 'www.scourt.go.kr' 'www.wiseuser.go.kr']\n"
          ],
          "name": "stdout"
        },
        {
          "output_type": "error",
          "ename": "KeyboardInterrupt",
          "evalue": "ignored",
          "traceback": [
            "\u001b[0;31m---------------------------------------------------------------------------\u001b[0m",
            "\u001b[0;31mKeyboardInterrupt\u001b[0m                         Traceback (most recent call last)",
            "\u001b[0;32m<ipython-input-90-754f173138ba>\u001b[0m in \u001b[0;36m<module>\u001b[0;34m()\u001b[0m\n\u001b[1;32m      3\u001b[0m \u001b[0;32mfor\u001b[0m \u001b[0mnumber\u001b[0m \u001b[0;32min\u001b[0m \u001b[0mrange\u001b[0m\u001b[0;34m(\u001b[0m\u001b[0mlen\u001b[0m\u001b[0;34m(\u001b[0m\u001b[0mfinalDataList\u001b[0m\u001b[0;34m)\u001b[0m\u001b[0;34m)\u001b[0m\u001b[0;34m:\u001b[0m\u001b[0;34m\u001b[0m\u001b[0;34m\u001b[0m\u001b[0m\n\u001b[1;32m      4\u001b[0m   \u001b[0;32mfor\u001b[0m \u001b[0mtarget\u001b[0m \u001b[0;32min\u001b[0m \u001b[0mrange\u001b[0m\u001b[0;34m(\u001b[0m\u001b[0;36m2\u001b[0m\u001b[0;34m,\u001b[0m\u001b[0;36m3\u001b[0m\u001b[0;34m)\u001b[0m\u001b[0;34m:\u001b[0m\u001b[0;34m\u001b[0m\u001b[0;34m\u001b[0m\u001b[0m\n\u001b[0;32m----> 5\u001b[0;31m     \u001b[0mx_train\u001b[0m\u001b[0;34m,\u001b[0m \u001b[0mx_test\u001b[0m\u001b[0;34m,\u001b[0m \u001b[0my_train\u001b[0m\u001b[0;34m,\u001b[0m \u001b[0my_test\u001b[0m\u001b[0;34m,\u001b[0m \u001b[0mmodel\u001b[0m\u001b[0;34m,\u001b[0m \u001b[0mhistory\u001b[0m\u001b[0;34m,\u001b[0m \u001b[0mle\u001b[0m \u001b[0;34m=\u001b[0m             \u001b[0mpipe2\u001b[0m\u001b[0;34m(\u001b[0m\u001b[0mfinalDataList\u001b[0m\u001b[0;34m[\u001b[0m\u001b[0mnumber\u001b[0m\u001b[0;34m]\u001b[0m\u001b[0;34m,\u001b[0m \u001b[0mkeyList\u001b[0m\u001b[0;34m[\u001b[0m\u001b[0mnumber\u001b[0m\u001b[0;34m]\u001b[0m\u001b[0;34m,\u001b[0m \u001b[0mtargetList\u001b[0m\u001b[0;34m[\u001b[0m\u001b[0mtarget\u001b[0m\u001b[0;34m]\u001b[0m\u001b[0;34m)\u001b[0m\u001b[0;34m\u001b[0m\u001b[0;34m\u001b[0m\u001b[0m\n\u001b[0m\u001b[1;32m      6\u001b[0m     \u001b[0mmodel\u001b[0m\u001b[0;34m.\u001b[0m\u001b[0msave\u001b[0m\u001b[0;34m(\u001b[0m\u001b[0;34m'/content/gdrive/My Drive/Summer Project/newModels/'\u001b[0m \u001b[0;34m+\u001b[0m \u001b[0mbigCatList\u001b[0m\u001b[0;34m[\u001b[0m\u001b[0mnumber\u001b[0m\u001b[0;34m]\u001b[0m\u001b[0;34m+\u001b[0m\u001b[0;34m'_'\u001b[0m\u001b[0;34m+\u001b[0m\u001b[0mtargetList\u001b[0m\u001b[0;34m[\u001b[0m\u001b[0mtarget\u001b[0m\u001b[0;34m]\u001b[0m\u001b[0;34m+\u001b[0m\u001b[0;34m'.h5'\u001b[0m\u001b[0;34m)\u001b[0m\u001b[0;34m\u001b[0m\u001b[0;34m\u001b[0m\u001b[0m\n\u001b[1;32m      7\u001b[0m     \u001b[0mloss\u001b[0m\u001b[0;34m,\u001b[0m \u001b[0maccuracy\u001b[0m\u001b[0;34m,\u001b[0m \u001b[0mbinary_crossentropy\u001b[0m \u001b[0;34m=\u001b[0m \u001b[0mmodel\u001b[0m\u001b[0;34m.\u001b[0m\u001b[0mevaluate\u001b[0m\u001b[0;34m(\u001b[0m\u001b[0mx_test\u001b[0m\u001b[0;34m,\u001b[0m \u001b[0my_test\u001b[0m\u001b[0;34m,\u001b[0m \u001b[0mverbose\u001b[0m\u001b[0;34m=\u001b[0m\u001b[0;32mFalse\u001b[0m\u001b[0;34m)\u001b[0m\u001b[0;34m\u001b[0m\u001b[0;34m\u001b[0m\u001b[0m\n",
            "\u001b[0;32m<ipython-input-89-cdb07cc9510f>\u001b[0m in \u001b[0;36mpipe2\u001b[0;34m(data, keyList_new, target)\u001b[0m\n\u001b[1;32m     30\u001b[0m \u001b[0;34m\u001b[0m\u001b[0m\n\u001b[1;32m     31\u001b[0m     history = model.fit(x_train, y_train, epochs = 100, verbose = False, \n\u001b[0;32m---> 32\u001b[0;31m                         validation_data = (x_test, y_test), batch_size=10, callbacks=[es])\n\u001b[0m\u001b[1;32m     33\u001b[0m \u001b[0;34m\u001b[0m\u001b[0m\n\u001b[1;32m     34\u001b[0m     \u001b[0;32mreturn\u001b[0m \u001b[0mx_train\u001b[0m\u001b[0;34m,\u001b[0m \u001b[0mx_test\u001b[0m\u001b[0;34m,\u001b[0m \u001b[0my_train\u001b[0m\u001b[0;34m,\u001b[0m \u001b[0my_test\u001b[0m\u001b[0;34m,\u001b[0m \u001b[0mmodel\u001b[0m\u001b[0;34m,\u001b[0m \u001b[0mhistory\u001b[0m\u001b[0;34m,\u001b[0m \u001b[0mle\u001b[0m\u001b[0;34m\u001b[0m\u001b[0;34m\u001b[0m\u001b[0m\n",
            "\u001b[0;32m/usr/local/lib/python3.6/dist-packages/keras/engine/training.py\u001b[0m in \u001b[0;36mfit\u001b[0;34m(self, x, y, batch_size, epochs, verbose, callbacks, validation_split, validation_data, shuffle, class_weight, sample_weight, initial_epoch, steps_per_epoch, validation_steps, **kwargs)\u001b[0m\n\u001b[1;32m   1037\u001b[0m                                         \u001b[0minitial_epoch\u001b[0m\u001b[0;34m=\u001b[0m\u001b[0minitial_epoch\u001b[0m\u001b[0;34m,\u001b[0m\u001b[0;34m\u001b[0m\u001b[0;34m\u001b[0m\u001b[0m\n\u001b[1;32m   1038\u001b[0m                                         \u001b[0msteps_per_epoch\u001b[0m\u001b[0;34m=\u001b[0m\u001b[0msteps_per_epoch\u001b[0m\u001b[0;34m,\u001b[0m\u001b[0;34m\u001b[0m\u001b[0;34m\u001b[0m\u001b[0m\n\u001b[0;32m-> 1039\u001b[0;31m                                         validation_steps=validation_steps)\n\u001b[0m\u001b[1;32m   1040\u001b[0m \u001b[0;34m\u001b[0m\u001b[0m\n\u001b[1;32m   1041\u001b[0m     def evaluate(self, x=None, y=None,\n",
            "\u001b[0;32m/usr/local/lib/python3.6/dist-packages/keras/engine/training_arrays.py\u001b[0m in \u001b[0;36mfit_loop\u001b[0;34m(model, f, ins, out_labels, batch_size, epochs, verbose, callbacks, val_f, val_ins, shuffle, callback_metrics, initial_epoch, steps_per_epoch, validation_steps)\u001b[0m\n\u001b[1;32m    197\u001b[0m                     \u001b[0mins_batch\u001b[0m\u001b[0;34m[\u001b[0m\u001b[0mi\u001b[0m\u001b[0;34m]\u001b[0m \u001b[0;34m=\u001b[0m \u001b[0mins_batch\u001b[0m\u001b[0;34m[\u001b[0m\u001b[0mi\u001b[0m\u001b[0;34m]\u001b[0m\u001b[0;34m.\u001b[0m\u001b[0mtoarray\u001b[0m\u001b[0;34m(\u001b[0m\u001b[0;34m)\u001b[0m\u001b[0;34m\u001b[0m\u001b[0;34m\u001b[0m\u001b[0m\n\u001b[1;32m    198\u001b[0m \u001b[0;34m\u001b[0m\u001b[0m\n\u001b[0;32m--> 199\u001b[0;31m                 \u001b[0mouts\u001b[0m \u001b[0;34m=\u001b[0m \u001b[0mf\u001b[0m\u001b[0;34m(\u001b[0m\u001b[0mins_batch\u001b[0m\u001b[0;34m)\u001b[0m\u001b[0;34m\u001b[0m\u001b[0;34m\u001b[0m\u001b[0m\n\u001b[0m\u001b[1;32m    200\u001b[0m                 \u001b[0mouts\u001b[0m \u001b[0;34m=\u001b[0m \u001b[0mto_list\u001b[0m\u001b[0;34m(\u001b[0m\u001b[0mouts\u001b[0m\u001b[0;34m)\u001b[0m\u001b[0;34m\u001b[0m\u001b[0;34m\u001b[0m\u001b[0m\n\u001b[1;32m    201\u001b[0m                 \u001b[0;32mfor\u001b[0m \u001b[0ml\u001b[0m\u001b[0;34m,\u001b[0m \u001b[0mo\u001b[0m \u001b[0;32min\u001b[0m \u001b[0mzip\u001b[0m\u001b[0;34m(\u001b[0m\u001b[0mout_labels\u001b[0m\u001b[0;34m,\u001b[0m \u001b[0mouts\u001b[0m\u001b[0;34m)\u001b[0m\u001b[0;34m:\u001b[0m\u001b[0;34m\u001b[0m\u001b[0;34m\u001b[0m\u001b[0m\n",
            "\u001b[0;32m/usr/local/lib/python3.6/dist-packages/keras/backend/tensorflow_backend.py\u001b[0m in \u001b[0;36m__call__\u001b[0;34m(self, inputs)\u001b[0m\n\u001b[1;32m   2713\u001b[0m                 \u001b[0;32mreturn\u001b[0m \u001b[0mself\u001b[0m\u001b[0;34m.\u001b[0m\u001b[0m_legacy_call\u001b[0m\u001b[0;34m(\u001b[0m\u001b[0minputs\u001b[0m\u001b[0;34m)\u001b[0m\u001b[0;34m\u001b[0m\u001b[0;34m\u001b[0m\u001b[0m\n\u001b[1;32m   2714\u001b[0m \u001b[0;34m\u001b[0m\u001b[0m\n\u001b[0;32m-> 2715\u001b[0;31m             \u001b[0;32mreturn\u001b[0m \u001b[0mself\u001b[0m\u001b[0;34m.\u001b[0m\u001b[0m_call\u001b[0m\u001b[0;34m(\u001b[0m\u001b[0minputs\u001b[0m\u001b[0;34m)\u001b[0m\u001b[0;34m\u001b[0m\u001b[0;34m\u001b[0m\u001b[0m\n\u001b[0m\u001b[1;32m   2716\u001b[0m         \u001b[0;32melse\u001b[0m\u001b[0;34m:\u001b[0m\u001b[0;34m\u001b[0m\u001b[0;34m\u001b[0m\u001b[0m\n\u001b[1;32m   2717\u001b[0m             \u001b[0;32mif\u001b[0m \u001b[0mpy_any\u001b[0m\u001b[0;34m(\u001b[0m\u001b[0mis_tensor\u001b[0m\u001b[0;34m(\u001b[0m\u001b[0mx\u001b[0m\u001b[0;34m)\u001b[0m \u001b[0;32mfor\u001b[0m \u001b[0mx\u001b[0m \u001b[0;32min\u001b[0m \u001b[0minputs\u001b[0m\u001b[0;34m)\u001b[0m\u001b[0;34m:\u001b[0m\u001b[0;34m\u001b[0m\u001b[0;34m\u001b[0m\u001b[0m\n",
            "\u001b[0;32m/usr/local/lib/python3.6/dist-packages/keras/backend/tensorflow_backend.py\u001b[0m in \u001b[0;36m_call\u001b[0;34m(self, inputs)\u001b[0m\n\u001b[1;32m   2673\u001b[0m             \u001b[0mfetched\u001b[0m \u001b[0;34m=\u001b[0m \u001b[0mself\u001b[0m\u001b[0;34m.\u001b[0m\u001b[0m_callable_fn\u001b[0m\u001b[0;34m(\u001b[0m\u001b[0;34m*\u001b[0m\u001b[0marray_vals\u001b[0m\u001b[0;34m,\u001b[0m \u001b[0mrun_metadata\u001b[0m\u001b[0;34m=\u001b[0m\u001b[0mself\u001b[0m\u001b[0;34m.\u001b[0m\u001b[0mrun_metadata\u001b[0m\u001b[0;34m)\u001b[0m\u001b[0;34m\u001b[0m\u001b[0;34m\u001b[0m\u001b[0m\n\u001b[1;32m   2674\u001b[0m         \u001b[0;32melse\u001b[0m\u001b[0;34m:\u001b[0m\u001b[0;34m\u001b[0m\u001b[0;34m\u001b[0m\u001b[0m\n\u001b[0;32m-> 2675\u001b[0;31m             \u001b[0mfetched\u001b[0m \u001b[0;34m=\u001b[0m \u001b[0mself\u001b[0m\u001b[0;34m.\u001b[0m\u001b[0m_callable_fn\u001b[0m\u001b[0;34m(\u001b[0m\u001b[0;34m*\u001b[0m\u001b[0marray_vals\u001b[0m\u001b[0;34m)\u001b[0m\u001b[0;34m\u001b[0m\u001b[0;34m\u001b[0m\u001b[0m\n\u001b[0m\u001b[1;32m   2676\u001b[0m         \u001b[0;32mreturn\u001b[0m \u001b[0mfetched\u001b[0m\u001b[0;34m[\u001b[0m\u001b[0;34m:\u001b[0m\u001b[0mlen\u001b[0m\u001b[0;34m(\u001b[0m\u001b[0mself\u001b[0m\u001b[0;34m.\u001b[0m\u001b[0moutputs\u001b[0m\u001b[0;34m)\u001b[0m\u001b[0;34m]\u001b[0m\u001b[0;34m\u001b[0m\u001b[0;34m\u001b[0m\u001b[0m\n\u001b[1;32m   2677\u001b[0m \u001b[0;34m\u001b[0m\u001b[0m\n",
            "\u001b[0;32m/usr/local/lib/python3.6/dist-packages/tensorflow/python/client/session.py\u001b[0m in \u001b[0;36m__call__\u001b[0;34m(self, *args, **kwargs)\u001b[0m\n\u001b[1;32m   1456\u001b[0m         ret = tf_session.TF_SessionRunCallable(self._session._session,\n\u001b[1;32m   1457\u001b[0m                                                \u001b[0mself\u001b[0m\u001b[0;34m.\u001b[0m\u001b[0m_handle\u001b[0m\u001b[0;34m,\u001b[0m \u001b[0margs\u001b[0m\u001b[0;34m,\u001b[0m\u001b[0;34m\u001b[0m\u001b[0;34m\u001b[0m\u001b[0m\n\u001b[0;32m-> 1458\u001b[0;31m                                                run_metadata_ptr)\n\u001b[0m\u001b[1;32m   1459\u001b[0m         \u001b[0;32mif\u001b[0m \u001b[0mrun_metadata\u001b[0m\u001b[0;34m:\u001b[0m\u001b[0;34m\u001b[0m\u001b[0;34m\u001b[0m\u001b[0m\n\u001b[1;32m   1460\u001b[0m           \u001b[0mproto_data\u001b[0m \u001b[0;34m=\u001b[0m \u001b[0mtf_session\u001b[0m\u001b[0;34m.\u001b[0m\u001b[0mTF_GetBuffer\u001b[0m\u001b[0;34m(\u001b[0m\u001b[0mrun_metadata_ptr\u001b[0m\u001b[0;34m)\u001b[0m\u001b[0;34m\u001b[0m\u001b[0;34m\u001b[0m\u001b[0m\n",
            "\u001b[0;31mKeyboardInterrupt\u001b[0m: "
          ]
        }
      ]
    },
    {
      "cell_type": "code",
      "metadata": {
        "id": "Nj5KOb3aSI0L",
        "colab_type": "code",
        "outputId": "7dabfb2d-e72e-421b-e8e9-ba88a02ef83b",
        "colab": {
          "base_uri": "https://localhost:8080/",
          "height": 34
        }
      },
      "source": [
        "from keras.models import load_model\n",
        "an = '의류·섬유신변용품'\n",
        "model = load_model('/content/gdrive/My Drive/Summer Project/newModels/' + an + '_outer.h5')\n",
        "with open('/content/gdrive/My Drive/Summer Project/newModels/tag_list.json', encoding = 'utf-8') as f:\n",
        "  taglist = json.load(f)\n",
        "a = ['문화', '발톱', '아픔', '사기']\n",
        "tt = pd.DataFrame([[1 if _ in a else 0 for _ in taglist[an]]])    \n",
        "model.predict(tt)  "
      ],
      "execution_count": 0,
      "outputs": [
        {
          "output_type": "execute_result",
          "data": {
            "text/plain": [
              "array([[1.]], dtype=float32)"
            ]
          },
          "metadata": {
            "tags": []
          },
          "execution_count": 74
        }
      ]
    },
    {
      "cell_type": "code",
      "metadata": {
        "id": "70U31ygcD5Us",
        "colab_type": "code",
        "colab": {}
      },
      "source": [
        "# finalDataList, tag_list, bigCatList\n",
        "len(finalDataList)"
      ],
      "execution_count": 0,
      "outputs": []
    },
    {
      "cell_type": "code",
      "metadata": {
        "id": "gH1zhcEpp0zh",
        "colab_type": "code",
        "colab": {}
      },
      "source": [
        "tag_list.keys()"
      ],
      "execution_count": 0,
      "outputs": []
    },
    {
      "cell_type": "code",
      "metadata": {
        "id": "WCioaR63qVA2",
        "colab_type": "code",
        "colab": {}
      },
      "source": [
        "finalDataList.keys()"
      ],
      "execution_count": 0,
      "outputs": []
    },
    {
      "cell_type": "code",
      "metadata": {
        "id": "2cLlnrgGrYvq",
        "colab_type": "code",
        "outputId": "3ccc3035-89bb-4a5e-fa97-f8adcebbe537",
        "colab": {
          "base_uri": "https://localhost:8080/",
          "height": 263
        }
      },
      "source": [
        "keys = list()\n",
        "track = 0\n",
        "for i in final.qKeyword:\n",
        "  track += 1\n",
        "  if track%10000 == 0:\n",
        "    print(track)\n",
        "  for k in i:\n",
        "    if k not in keys:\n",
        "      keys.append(k)\n",
        "    else:\n",
        "      continue  "
      ],
      "execution_count": 0,
      "outputs": [
        {
          "output_type": "stream",
          "text": [
            "10000\n",
            "20000\n",
            "30000\n",
            "40000\n",
            "50000\n",
            "60000\n",
            "70000\n",
            "80000\n",
            "90000\n",
            "100000\n",
            "110000\n",
            "120000\n",
            "130000\n",
            "140000\n"
          ],
          "name": "stdout"
        }
      ]
    },
    {
      "cell_type": "code",
      "metadata": {
        "id": "p1eg4PZO3VJR",
        "colab_type": "code",
        "outputId": "a58487b3-d8d6-468b-bb4f-2924e32a8f41",
        "colab": {
          "base_uri": "https://localhost:8080/",
          "height": 34
        }
      },
      "source": [
        "len(keys)"
      ],
      "execution_count": 0,
      "outputs": [
        {
          "output_type": "execute_result",
          "data": {
            "text/plain": [
              "2481"
            ]
          },
          "metadata": {
            "tags": []
          },
          "execution_count": 12
        }
      ]
    },
    {
      "cell_type": "code",
      "metadata": {
        "id": "x0Z9OBjGxPiJ",
        "colab_type": "code",
        "outputId": "b9b56fa1-8083-4ca8-86f8-c564a45ec229",
        "colab": {
          "base_uri": "https://localhost:8080/",
          "height": 263
        }
      },
      "source": [
        "dat = list()\n",
        "track = 0\n",
        "for i in final.qKeyword:\n",
        "  track += 1\n",
        "  if track%10000 == 0:\n",
        "    print(track)\n",
        "  dat.append([1 if _ in i else 0 for _ in keys])\n",
        "dat = pd.DataFrame(dat)\n",
        "dat.columns = keys"
      ],
      "execution_count": 0,
      "outputs": [
        {
          "output_type": "stream",
          "text": [
            "10000\n",
            "20000\n",
            "30000\n",
            "40000\n",
            "50000\n",
            "60000\n",
            "70000\n",
            "80000\n",
            "90000\n",
            "100000\n",
            "110000\n",
            "120000\n",
            "130000\n",
            "140000\n"
          ],
          "name": "stdout"
        }
      ]
    },
    {
      "cell_type": "code",
      "metadata": {
        "id": "MwmtAqf17lDv",
        "colab_type": "code",
        "colab": {}
      },
      "source": [
        "temp = final.copy()"
      ],
      "execution_count": 0,
      "outputs": []
    },
    {
      "cell_type": "code",
      "metadata": {
        "id": "2jhgpfWhx36w",
        "colab_type": "code",
        "outputId": "7ca1b329-6dce-40a4-8d77-b06a0f39cb50",
        "colab": {
          "base_uri": "https://localhost:8080/",
          "height": 34
        }
      },
      "source": [
        "final.shape, dat.shape, pd.merge(final.reset_index(drop=True), dat.reset_index(drop=True), left_index=True, right_index=True).shape"
      ],
      "execution_count": 0,
      "outputs": [
        {
          "output_type": "execute_result",
          "data": {
            "text/plain": [
              "((145380, 18), (145380, 2481), (145380, 2499))"
            ]
          },
          "metadata": {
            "tags": []
          },
          "execution_count": 23
        }
      ]
    },
    {
      "cell_type": "code",
      "metadata": {
        "id": "_32TzmY5-pKm",
        "colab_type": "code",
        "colab": {}
      },
      "source": [
        "final= pd.merge(temp.reset_index(drop=True), dat.reset_index(drop=True), left_index=True, right_index=True)"
      ],
      "execution_count": 0,
      "outputs": []
    },
    {
      "cell_type": "code",
      "metadata": {
        "id": "EGsnoBbkvs1s",
        "colab_type": "code",
        "outputId": "04d9937a-99b2-48ca-8b83-2343161c7747",
        "colab": {
          "base_uri": "https://localhost:8080/",
          "height": 105
        }
      },
      "source": [
        "for target in range(len(targetList)):\n",
        "  x_train, x_test, y_train, y_test, model, history = pipe(final, keys, targetList[target])\n",
        "  loss, accuracy, binary_crossentropy = model.evaluate(x_test, y_test, verbose=False)\n",
        "  print(targetList[target] + '/// Length:' + str(x_train.shape) + '/// Accuracy: ' + str(accuracy))"
      ],
      "execution_count": 0,
      "outputs": [
        {
          "output_type": "stream",
          "text": [
            "add_paper/// Length:(109035, 2481)/// Accuracy: 0.6641353693817256\n",
            "nego_able/// Length:(109035, 2481)/// Accuracy: 0.7651671481568739\n",
            "outer/// Length:(109035, 2481)/// Accuracy: 1.0\n",
            "goojae/// Length:(109035, 2481)/// Accuracy: 0.7741092309775978\n",
            "jojung/// Length:(109035, 2481)/// Accuracy: 0.778621543534505\n"
          ],
          "name": "stdout"
        }
      ]
    },
    {
      "cell_type": "code",
      "metadata": {
        "id": "Gmi8swy5vuzG",
        "colab_type": "code",
        "outputId": "aed496b6-0b40-49a2-ac95-108c12e28633",
        "colab": {
          "base_uri": "https://localhost:8080/",
          "height": 34
        }
      },
      "source": [
        "max([len(_) for _ in final.qKeyword])"
      ],
      "execution_count": 0,
      "outputs": [
        {
          "output_type": "execute_result",
          "data": {
            "text/plain": [
              "34"
            ]
          },
          "metadata": {
            "tags": []
          },
          "execution_count": 38
        }
      ]
    },
    {
      "cell_type": "code",
      "metadata": {
        "id": "jpRyQO0QxJas",
        "colab_type": "code",
        "outputId": "857c8d7d-0a92-4158-ba10-38b3a50dc871",
        "colab": {
          "base_uri": "https://localhost:8080/",
          "height": 77
        }
      },
      "source": [
        ""
      ],
      "execution_count": 0,
      "outputs": [
        {
          "output_type": "execute_result",
          "data": {
            "text/html": [
              "<div>\n",
              "<style scoped>\n",
              "    .dataframe tbody tr th:only-of-type {\n",
              "        vertical-align: middle;\n",
              "    }\n",
              "\n",
              "    .dataframe tbody tr th {\n",
              "        vertical-align: top;\n",
              "    }\n",
              "\n",
              "    .dataframe thead th {\n",
              "        text-align: right;\n",
              "    }\n",
              "</style>\n",
              "<table border=\"1\" class=\"dataframe\">\n",
              "  <thead>\n",
              "    <tr style=\"text-align: right;\">\n",
              "      <th></th>\n",
              "      <th>0</th>\n",
              "    </tr>\n",
              "  </thead>\n",
              "  <tbody>\n",
              "    <tr>\n",
              "      <th>0</th>\n",
              "      <td>123</td>\n",
              "    </tr>\n",
              "  </tbody>\n",
              "</table>\n",
              "</div>"
            ],
            "text/plain": [
              "     0\n",
              "0  123"
            ]
          },
          "metadata": {
            "tags": []
          },
          "execution_count": 24
        }
      ]
    },
    {
      "cell_type": "code",
      "metadata": {
        "id": "Br2ZAyHa6Dho",
        "colab_type": "code",
        "outputId": "e02d1a43-f6a7-4e3e-c8aa-0ac452606f63",
        "colab": {
          "base_uri": "https://localhost:8080/",
          "height": 34
        }
      },
      "source": [
        "temp.shape"
      ],
      "execution_count": 0,
      "outputs": [
        {
          "output_type": "execute_result",
          "data": {
            "text/plain": [
              "(145380, 18)"
            ]
          },
          "metadata": {
            "tags": []
          },
          "execution_count": 39
        }
      ]
    },
    {
      "cell_type": "code",
      "metadata": {
        "id": "y-3ryN1oPpp4",
        "colab_type": "code",
        "colab": {}
      },
      "source": [
        "from keras.preprocessing.text import Tokenizer\n",
        "from keras.models import Sequential\n",
        "from keras.layers import Activation, Dense, Dropout\n",
        "from sklearn.preprocessing import LabelBinarizer"
      ],
      "execution_count": 0,
      "outputs": []
    },
    {
      "cell_type": "code",
      "metadata": {
        "id": "HOxXmauJPxGn",
        "colab_type": "code",
        "colab": {}
      },
      "source": [
        "### test train split\n",
        "# x_train, x_test, y_train, y_test = train_test_split(temp.)"
      ],
      "execution_count": 0,
      "outputs": []
    },
    {
      "cell_type": "code",
      "metadata": {
        "id": "Mkv4BpB8QPHN",
        "colab_type": "code",
        "colab": {}
      },
      "source": [
        ""
      ],
      "execution_count": 0,
      "outputs": []
    },
    {
      "cell_type": "code",
      "metadata": {
        "id": "cwYQUXA_QRv0",
        "colab_type": "code",
        "colab": {}
      },
      "source": [
        "num_labels = 20\n",
        "vocab_size = 15000\n",
        "batch_size = 100"
      ],
      "execution_count": 0,
      "outputs": []
    },
    {
      "cell_type": "code",
      "metadata": {
        "id": "2v0a_IuAQ1mq",
        "colab_type": "code",
        "outputId": "a89ce5a8-5ac3-441c-f2a9-792833d5d7ed",
        "colab": {
          "base_uri": "https://localhost:8080/",
          "height": 202
        }
      },
      "source": [
        "vocab_size = 15000\n",
        "tokenizer = Tokenizer(num_words=vocab_size)\n",
        "tokenizer.fit_on_texts(train_posts[0])"
      ],
      "execution_count": 0,
      "outputs": [
        {
          "output_type": "error",
          "ename": "NameError",
          "evalue": "ignored",
          "traceback": [
            "\u001b[0;31m---------------------------------------------------------------------------\u001b[0m",
            "\u001b[0;31mNameError\u001b[0m                                 Traceback (most recent call last)",
            "\u001b[0;32m<ipython-input-2-fa6684ac6ea5>\u001b[0m in \u001b[0;36m<module>\u001b[0;34m()\u001b[0m\n\u001b[1;32m      1\u001b[0m \u001b[0mvocab_size\u001b[0m \u001b[0;34m=\u001b[0m \u001b[0;36m15000\u001b[0m\u001b[0;34m\u001b[0m\u001b[0;34m\u001b[0m\u001b[0m\n\u001b[0;32m----> 2\u001b[0;31m \u001b[0mtokenizer\u001b[0m \u001b[0;34m=\u001b[0m \u001b[0mTokenizer\u001b[0m\u001b[0;34m(\u001b[0m\u001b[0mnum_words\u001b[0m\u001b[0;34m=\u001b[0m\u001b[0mvocab_size\u001b[0m\u001b[0;34m)\u001b[0m\u001b[0;34m\u001b[0m\u001b[0;34m\u001b[0m\u001b[0m\n\u001b[0m\u001b[1;32m      3\u001b[0m \u001b[0mtokenizer\u001b[0m\u001b[0;34m.\u001b[0m\u001b[0mfit_on_texts\u001b[0m\u001b[0;34m(\u001b[0m\u001b[0mtrain_posts\u001b[0m\u001b[0;34m[\u001b[0m\u001b[0;36m0\u001b[0m\u001b[0;34m]\u001b[0m\u001b[0;34m)\u001b[0m\u001b[0;34m\u001b[0m\u001b[0;34m\u001b[0m\u001b[0m\n",
            "\u001b[0;31mNameError\u001b[0m: name 'Tokenizer' is not defined"
          ]
        }
      ]
    },
    {
      "cell_type": "code",
      "metadata": {
        "id": "gkq9M4inRb-U",
        "colab_type": "code",
        "colab": {}
      },
      "source": [
        "x_train = tokenizer.texts_to_matrix(train_posts, mode='tfidf')\n",
        "x_train"
      ],
      "execution_count": 0,
      "outputs": []
    },
    {
      "cell_type": "code",
      "metadata": {
        "id": "HlgtaBglRfFn",
        "colab_type": "code",
        "colab": {}
      },
      "source": [
        ""
      ],
      "execution_count": 0,
      "outputs": []
    }
  ]
}